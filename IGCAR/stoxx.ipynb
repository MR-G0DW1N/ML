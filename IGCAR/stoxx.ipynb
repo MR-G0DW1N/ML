{
 "cells": [
  {
   "cell_type": "code",
   "execution_count": 12,
   "metadata": {},
   "outputs": [],
   "source": [
    "import numpy as np\n",
    "import pandas as pd\n"
   ]
  },
  {
   "cell_type": "markdown",
   "metadata": {},
   "source": [
    "<h2>Creating Functions which can be used on datasets. </h2>"
   ]
  },
  {
   "cell_type": "markdown",
   "metadata": {},
   "source": [
    "-Assuming the dataset has price value for each day and each month is 30 days <br>\n",
    "-Taking Indian Rupee 3 month MIBOR rate as 7.3 default"
   ]
  },
  {
   "cell_type": "code",
   "execution_count": 13,
   "metadata": {},
   "outputs": [],
   "source": [
    "def calculate_momentum(data, delta1=7, delta2=13, lsfr=7.3):\n",
    "    pt_1 = data.iloc[-1*30]  \n",
    "    pt_7 = data.iloc[-delta1*30]  \n",
    "    pt_13 = data.iloc[-delta2*30]\n",
    "\n",
    "    pm6 = ((pt_1/pt_7)-1) - lsfr\n",
    "\n",
    "    pm12 = np.nan\n",
    "    if not np.isnan(pt_13):\n",
    "        pm12 = ((pt_1/pt_13)-1) - lsfr\n",
    "\n",
    "    else:\n",
    "        pm12 = pm6\n",
    "    \n",
    "    print(f'6 month Price Momentum : {pm6} ')\n",
    "    print(f'12 month Price Momentum : {pm12}')\n",
    "\n",
    "    return pm6, pm12"
   ]
  },
  {
   "cell_type": "code",
   "execution_count": 14,
   "metadata": {},
   "outputs": [],
   "source": [
    "def risk_adj_pm(pm,d):\n",
    "    std1 = np.std(d.iloc[-3*365])\n",
    "\n",
    "    rapm = pm/std1\n",
    "\n",
    "    return rapm\n",
    "    "
   ]
  },
  {
   "cell_type": "markdown",
   "metadata": {},
   "source": [
    "Calculating Momentum Score\n"
   ]
  },
  {
   "cell_type": "code",
   "execution_count": 15,
   "metadata": {},
   "outputs": [],
   "source": [
    "def momentum_score(d,pm6_mean,pm6_std,pm12_mean,pm12_std,cmean,cstd):\n",
    "    pm6 , pm12 = calculate_momentum(d)\n",
    "    \n",
    "    pm6z = (pm6-pm6_mean)/pm6_std\n",
    "    pm12z = (pm12-pm12_mean)/pm12_std\n",
    "\n",
    "    C = (pm6z*0.5)+(pm12z*0.5)\n",
    "\n",
    "    Z = (C-cmean)/cstd\n",
    "\n",
    "    if z>3:\n",
    "        z=3\n",
    "    elif z<-3:\n",
    "        z=-3\n",
    "\n",
    "    if z>0:\n",
    "        momentumscore = 1+Z\n",
    "    elif z<0:\n",
    "        momentumscore = 1/(1-z)\n",
    "        \n",
    "    return z,momentumscore"
   ]
  },
  {
   "cell_type": "markdown",
   "metadata": {},
   "source": [
    "Security Selection"
   ]
  },
  {
   "cell_type": "code",
   "execution_count": 16,
   "metadata": {},
   "outputs": [],
   "source": [
    "def security_selection(d,momentum_score,parent_index,n):\n",
    "\n",
    "    combd = pd.DataFrame(d,{\"Momentum Z Score\":momentum_score,\"Parent Index Weight\": parent_index}) \n",
    "    sorted = combd.sort_values(by=['Momentum Z Score','Parent Index Weight'], ascending = [False, False])\n",
    "\n",
    "    selected_securities = sorted.head(n).index.tolist()\n",
    "\n",
    "    return selected_securities"
   ]
  },
  {
   "cell_type": "code",
   "execution_count": 17,
   "metadata": {},
   "outputs": [],
   "source": [
    "def Momentum_weight(d, market_cap,security_market_caps,cap_level):\n",
    "    score = momentum_score(d)\n",
    "    mo_wt = score*market_cap\n",
    "    normalized_weights = mo_wt / mo_wt.sum()\n",
    "    inclusion_factors = normalized_weights / (security_market_caps / security_market_caps.sum())\n",
    "    inclusion_factors = inclusion_factors.clip(upper=cap_level)\n",
    "    return inclusion_factors"
   ]
  }
 ],
 "metadata": {
  "kernelspec": {
   "display_name": "ml",
   "language": "python",
   "name": "python3"
  },
  "language_info": {
   "codemirror_mode": {
    "name": "ipython",
    "version": 3
   },
   "file_extension": ".py",
   "mimetype": "text/x-python",
   "name": "python",
   "nbconvert_exporter": "python",
   "pygments_lexer": "ipython3",
   "version": "3.10.14"
  }
 },
 "nbformat": 4,
 "nbformat_minor": 2
}
